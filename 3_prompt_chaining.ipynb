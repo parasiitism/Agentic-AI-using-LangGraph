{
 "cells": [
  {
   "cell_type": "code",
   "execution_count": 1,
   "id": "d8611e2c",
   "metadata": {},
   "outputs": [],
   "source": [
    "from langgraph.graph import StateGraph,START,END\n",
    "from langchain_openai import ChatOpenAI\n",
    "from typing import TypedDict\n",
    "from dotenv import load_dotenv\n"
   ]
  },
  {
   "cell_type": "code",
   "execution_count": 2,
   "id": "3cd834cc",
   "metadata": {},
   "outputs": [
    {
     "data": {
      "text/plain": [
       "False"
      ]
     },
     "execution_count": 2,
     "metadata": {},
     "output_type": "execute_result"
    }
   ],
   "source": [
    "load_dotenv()"
   ]
  },
  {
   "cell_type": "code",
   "execution_count": 3,
   "id": "f839fc2b",
   "metadata": {},
   "outputs": [],
   "source": [
    "class BlogState(TypedDict):\n",
    "    title:str\n",
    "    outline:str\n",
    "    content:str "
   ]
  },
  {
   "cell_type": "code",
   "execution_count": null,
   "id": "46cdacbf",
   "metadata": {},
   "outputs": [],
   "source": [
    "def create_outline(state:BlogState)->BlogState:\n",
    "\n",
    "    #fetch title \n",
    "    title=state['title']\n",
    "\n",
    "    #call llm gen outline \n",
    "    prompt=f'Generate a detailed outline for ablog on the topic - {title}'\n",
    "    outline=model.invoke(prompt).content\n",
    "\n",
    "    #update state \n",
    "    state['outline']=outline\n",
    "    return state "
   ]
  },
  {
   "cell_type": "code",
   "execution_count": null,
   "id": "3e5ea1bd",
   "metadata": {},
   "outputs": [],
   "source": [
    "def create_blog(state:BlogState)->BlogState:\n",
    "    title=state['title']\n",
    "    outline=state['outline']\n",
    "\n",
    "    prompt=f'Write a detailed blog on the title -{title} using the following outline \\n {outline}'"
   ]
  },
  {
   "cell_type": "code",
   "execution_count": null,
   "id": "6f102ee6",
   "metadata": {},
   "outputs": [],
   "source": [
    "graph=StateGraph(BlogState)\n",
    "\n",
    "#node \n",
    "graph.add_node('create_outline',create_outline)\n",
    "graph.add_node('create_blog',create_blog)\n",
    "\n",
    "#edges \n",
    "graph.add_edge(START,'create_outline')\n",
    "graph.add_edge('create_outline','create_blog')\n",
    "graph.add_edge('create_blog',END)\n",
    "\n",
    "workflow=graph.compile()\n"
   ]
  },
  {
   "cell_type": "code",
   "execution_count": null,
   "id": "87248e6d",
   "metadata": {},
   "outputs": [],
   "source": [
    "intial_state={'title':'Rise of AI in India'}\n",
    "finalState=workflow.invoke(intial_state)\n",
    "print(finalState)"
   ]
  },
  {
   "cell_type": "code",
   "execution_count": null,
   "id": "2173cfe5",
   "metadata": {},
   "outputs": [],
   "source": []
  }
 ],
 "metadata": {
  "kernelspec": {
   "display_name": "generative_ai (3.13.5)",
   "language": "python",
   "name": "python3"
  },
  "language_info": {
   "codemirror_mode": {
    "name": "ipython",
    "version": 3
   },
   "file_extension": ".py",
   "mimetype": "text/x-python",
   "name": "python",
   "nbconvert_exporter": "python",
   "pygments_lexer": "ipython3",
   "version": "3.13.5"
  }
 },
 "nbformat": 4,
 "nbformat_minor": 5
}
