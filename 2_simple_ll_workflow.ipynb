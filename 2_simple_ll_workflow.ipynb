{
 "cells": [
  {
   "cell_type": "code",
   "execution_count": null,
   "id": "b72e2e99",
   "metadata": {},
   "outputs": [],
   "source": [
    "from langgraph.graph import StateGraph,START,END\n",
    "from langchain_openai import ChatOpenAI\n",
    "from typing import TypedDict\n",
    "from dotenv import load_dotenv\n"
   ]
  },
  {
   "cell_type": "code",
   "execution_count": 3,
   "id": "9e10609c",
   "metadata": {},
   "outputs": [
    {
     "data": {
      "text/plain": [
       "False"
      ]
     },
     "execution_count": 3,
     "metadata": {},
     "output_type": "execute_result"
    }
   ],
   "source": [
    "load_dotenv()"
   ]
  },
  {
   "cell_type": "code",
   "execution_count": 5,
   "id": "c736ccc2",
   "metadata": {},
   "outputs": [],
   "source": [
    "#model=ChatOpenAI()"
   ]
  },
  {
   "cell_type": "code",
   "execution_count": 6,
   "id": "8b302f45",
   "metadata": {},
   "outputs": [],
   "source": [
    "# create a state \n",
    "class LLMState(TypedDict):\n",
    "    question:str\n",
    "    answer:str \n",
    "    "
   ]
  },
  {
   "cell_type": "code",
   "execution_count": null,
   "id": "8c597b93",
   "metadata": {},
   "outputs": [],
   "source": [
    "def llm_qa(state:LLMState)->LLMState:\n",
    "\n",
    "    # extract the question from the state\n",
    "\n",
    "    # form a prompt \n",
    "    prompt=f'Answer the following question {question}'\n",
    "    # ask that question to the LLM \n",
    "    model.invoke(prompt).content\n",
    "\n",
    "    # update the answer in the state \n",
    "    state['answer']=answer\n",
    "    return state "
   ]
  },
  {
   "cell_type": "code",
   "execution_count": null,
   "id": "0d392839",
   "metadata": {},
   "outputs": [],
   "source": [
    "#create our graph \n",
    "graph=StateGraph(LLMState)\n",
    "\n",
    "# add your nodes \n",
    "graph.add_node('llm_qa',llm_qa)\n",
    "# add your edges \n",
    "graph.add_edge(START,'llm_qa')\n",
    "graph.add_edge('llm_qa',END)\n",
    "\n",
    "# compile \n",
    "graph.compile()\n"
   ]
  },
  {
   "cell_type": "code",
   "execution_count": null,
   "id": "c4e93ca3",
   "metadata": {},
   "outputs": [],
   "source": [
    "# execute\n",
    "initial_state={'question':'How far is oon from the earth?'}\n",
    "final_state=workflow.invoke(initial_state)\n",
    "print(final_state)\n"
   ]
  }
 ],
 "metadata": {
  "kernelspec": {
   "display_name": "generative_ai (3.13.5)",
   "language": "python",
   "name": "python3"
  },
  "language_info": {
   "codemirror_mode": {
    "name": "ipython",
    "version": 3
   },
   "file_extension": ".py",
   "mimetype": "text/x-python",
   "name": "python",
   "nbconvert_exporter": "python",
   "pygments_lexer": "ipython3",
   "version": "3.13.5"
  }
 },
 "nbformat": 4,
 "nbformat_minor": 5
}
